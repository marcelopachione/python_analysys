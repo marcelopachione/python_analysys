{
  "nbformat": 4,
  "nbformat_minor": 0,
  "metadata": {
    "colab": {
      "provenance": [],
      "authorship_tag": "ABX9TyP5G8B8Mu5bR+sFwYi/LOY8",
      "include_colab_link": true
    },
    "kernelspec": {
      "name": "python3",
      "display_name": "Python 3"
    },
    "language_info": {
      "name": "python"
    }
  },
  "cells": [
    {
      "cell_type": "markdown",
      "metadata": {
        "id": "view-in-github",
        "colab_type": "text"
      },
      "source": [
        "<a href=\"https://colab.research.google.com/github/marcelopachione/python_analysys/blob/main/python_iphone_data_analysys.ipynb\" target=\"_parent\"><img src=\"https://colab.research.google.com/assets/colab-badge.svg\" alt=\"Open In Colab\"/></a>"
      ]
    },
    {
      "cell_type": "markdown",
      "source": [
        "# Iphone Data Analysis Mini Project"
      ],
      "metadata": {
        "id": "mQHLxVU7k0JD"
      }
    },
    {
      "cell_type": "code",
      "source": [
        "# Install pandas\n",
        "!pip install pandas"
      ],
      "metadata": {
        "id": "tmMaLaeDk6_T"
      },
      "execution_count": null,
      "outputs": []
    },
    {
      "cell_type": "code",
      "source": [
        "# import packages\n",
        "import pandas as pd"
      ],
      "metadata": {
        "id": "kKUexXqrlABT"
      },
      "execution_count": null,
      "outputs": []
    },
    {
      "cell_type": "code",
      "source": [
        "# load dataset\n",
        "df = pd.read_csv(\"/content/apple_products.csv\")\n",
        "df.head(10)"
      ],
      "metadata": {
        "id": "pLNQwvz9lH3r"
      },
      "execution_count": null,
      "outputs": []
    },
    {
      "cell_type": "code",
      "source": [
        "# number of rows\n",
        "df.count()"
      ],
      "metadata": {
        "id": "h8Sa8TrwluGE"
      },
      "execution_count": null,
      "outputs": []
    },
    {
      "cell_type": "code",
      "source": [
        "# what is the highest iphone value in this dataset?\n",
        "df['Mrp'].max()"
      ],
      "metadata": {
        "id": "5bio7EE6lxIT"
      },
      "execution_count": null,
      "outputs": []
    },
    {
      "cell_type": "code",
      "source": [
        "# what is the chipest iphone value in this dataset?\n",
        "df['Mrp'].min()"
      ],
      "metadata": {
        "id": "bfnFkk2lmPOZ"
      },
      "execution_count": null,
      "outputs": []
    },
    {
      "cell_type": "code",
      "source": [
        "df[df['Mrp'] == 149900]"
      ],
      "metadata": {
        "id": "N0nZNsJEmT9r"
      },
      "execution_count": null,
      "outputs": []
    },
    {
      "cell_type": "code",
      "source": [
        "df[df['Mrp'] == 39900]"
      ],
      "metadata": {
        "id": "s0dVVAZIm0S5"
      },
      "execution_count": null,
      "outputs": []
    },
    {
      "cell_type": "code",
      "source": [
        "df[df['Mrp'] <= 50000]"
      ],
      "metadata": {
        "id": "mENbdEhnorQF"
      },
      "execution_count": null,
      "outputs": []
    },
    {
      "cell_type": "code",
      "source": [
        "df[df['Mrp'] >= 100000]"
      ],
      "metadata": {
        "id": "RpyHJL50ow1l"
      },
      "execution_count": null,
      "outputs": []
    },
    {
      "cell_type": "code",
      "source": [
        "#type(df['Product Name'])\n",
        "list(df['Product Name'])\n",
        "\n",
        "# list\n",
        "list(df['Product Name'])[4]"
      ],
      "metadata": {
        "id": "28gPW6fbo1Th"
      },
      "execution_count": null,
      "outputs": []
    },
    {
      "cell_type": "code",
      "source": [
        "#list(df['Product Name'])[4].upper()\n",
        "list(df['Product Name'])[4].lower()"
      ],
      "metadata": {
        "id": "F30IlvdupUay"
      },
      "execution_count": null,
      "outputs": []
    },
    {
      "cell_type": "code",
      "source": [
        "# Extract version of Iphone\n",
        "list(df['Product Name'])[0][6:15].upper().strip()"
      ],
      "metadata": {
        "id": "uKMfEGBWpn5K"
      },
      "execution_count": null,
      "outputs": []
    },
    {
      "cell_type": "code",
      "source": [
        "df['Model Name'] = df['Product Name'].str[6:15]\n",
        "\n",
        "df.head()"
      ],
      "metadata": {
        "id": "7226LeRIqGbN"
      },
      "execution_count": null,
      "outputs": []
    },
    {
      "cell_type": "code",
      "source": [
        "df.sort_values(by=['Star Rating'], ascending = False)"
      ],
      "metadata": {
        "id": "yEKd0QD5zv79"
      },
      "execution_count": null,
      "outputs": []
    },
    {
      "cell_type": "code",
      "source": [
        "df.drop('Mrp', inplace=True, axis=1) # drop column 'Mrp'\n",
        "\n",
        "df"
      ],
      "metadata": {
        "id": "obZuHLlcDIr9"
      },
      "execution_count": null,
      "outputs": []
    }
  ]
}