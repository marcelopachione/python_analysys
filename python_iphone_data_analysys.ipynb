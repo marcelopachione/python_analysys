{
  "cells": [
    {
      "attachments": {},
      "cell_type": "markdown",
      "metadata": {
        "id": "mQHLxVU7k0JD"
      },
      "source": [
        "# Iphone Data Analysis Mini Project"
      ]
    },
    {
      "cell_type": "code",
      "execution_count": null,
      "metadata": {
        "id": "tmMaLaeDk6_T"
      },
      "outputs": [],
      "source": [
        "# Install pandas\n",
        "!pip install pandas"
      ]
    },
    {
      "cell_type": "code",
      "execution_count": null,
      "metadata": {
        "id": "kKUexXqrlABT"
      },
      "outputs": [],
      "source": [
        "# import packages\n",
        "import pandas as pd"
      ]
    },
    {
      "cell_type": "code",
      "execution_count": null,
      "metadata": {
        "id": "pLNQwvz9lH3r"
      },
      "outputs": [],
      "source": [
        "# load dataset\n",
        "df = pd.read_csv(\"/content/apple_products.csv\")\n",
        "df.head(10)"
      ]
    },
    {
      "cell_type": "code",
      "execution_count": null,
      "metadata": {
        "id": "h8Sa8TrwluGE"
      },
      "outputs": [],
      "source": [
        "# number of rows\n",
        "df.count()"
      ]
    },
    {
      "cell_type": "code",
      "execution_count": null,
      "metadata": {
        "id": "5bio7EE6lxIT"
      },
      "outputs": [],
      "source": [
        "# what is the highest iphone value in this dataset?\n",
        "df['Mrp'].max()"
      ]
    },
    {
      "cell_type": "code",
      "execution_count": null,
      "metadata": {
        "id": "bfnFkk2lmPOZ"
      },
      "outputs": [],
      "source": [
        "# what is the chipest iphone value in this dataset?\n",
        "df['Mrp'].min()"
      ]
    },
    {
      "cell_type": "code",
      "execution_count": null,
      "metadata": {
        "id": "N0nZNsJEmT9r"
      },
      "outputs": [],
      "source": [
        "df[df['Mrp'] == 149900]"
      ]
    },
    {
      "cell_type": "code",
      "execution_count": null,
      "metadata": {
        "id": "s0dVVAZIm0S5"
      },
      "outputs": [],
      "source": [
        "df[df['Mrp'] == 39900]"
      ]
    },
    {
      "cell_type": "code",
      "execution_count": null,
      "metadata": {
        "id": "mENbdEhnorQF"
      },
      "outputs": [],
      "source": [
        "df[df['Mrp'] <= 50000]"
      ]
    },
    {
      "cell_type": "code",
      "execution_count": null,
      "metadata": {
        "id": "RpyHJL50ow1l"
      },
      "outputs": [],
      "source": [
        "df[df['Mrp'] >= 100000]"
      ]
    },
    {
      "cell_type": "code",
      "execution_count": null,
      "metadata": {
        "id": "28gPW6fbo1Th"
      },
      "outputs": [],
      "source": [
        "# type(df['Product Name'])\n",
        "list(df['Product Name'])\n",
        "\n",
        "# list\n",
        "list(df['Product Name'])[4]"
      ]
    },
    {
      "cell_type": "code",
      "execution_count": null,
      "metadata": {
        "id": "F30IlvdupUay"
      },
      "outputs": [],
      "source": [
        "# list(df['Product Name'])[4].upper()\n",
        "list(df['Product Name'])[4].lower()"
      ]
    },
    {
      "cell_type": "code",
      "execution_count": null,
      "metadata": {
        "id": "uKMfEGBWpn5K"
      },
      "outputs": [],
      "source": [
        "# Extract version of Iphone\n",
        "list(df['Product Name'])[0][6:15].upper().strip()"
      ]
    },
    {
      "cell_type": "code",
      "execution_count": null,
      "metadata": {
        "id": "7226LeRIqGbN"
      },
      "outputs": [],
      "source": [
        "df['Model Name'] = df['Product Name'].str[6:15]\n",
        "\n",
        "df.head()"
      ]
    },
    {
      "cell_type": "code",
      "execution_count": null,
      "metadata": {
        "id": "yEKd0QD5zv79"
      },
      "outputs": [],
      "source": [
        "df.sort_values(by=['Star Rating'], ascending=False)"
      ]
    },
    {
      "cell_type": "code",
      "execution_count": null,
      "metadata": {
        "id": "obZuHLlcDIr9"
      },
      "outputs": [],
      "source": [
        "# df.drop('Mrp', inplace=True, axis=1) # drop column 'Mrp'\n",
        "# drop column 'Mrp' and drop Upc column\n",
        "df.drop(['Mrp', 'Upc'], inplace=True, axis=1)\n",
        "df"
      ]
    },
    {
      "attachments": {},
      "cell_type": "markdown",
      "metadata": {},
      "source": [
        "## list cromprehension"
      ]
    },
    {
      "cell_type": "code",
      "execution_count": 1,
      "metadata": {},
      "outputs": [],
      "source": [
        "names = ['Marcelo', 'Jully', 'Arthur']\n",
        "hello = ['Hello' + name for name in names]"
      ]
    }
  ],
  "metadata": {
    "colab": {
      "authorship_tag": "ABX9TyNAUT5cmW73XRpyxCZdd5I/",
      "provenance": []
    },
    "kernelspec": {
      "display_name": "Python 3",
      "name": "python3"
    },
    "language_info": {
      "codemirror_mode": {
        "name": "ipython",
        "version": 3
      },
      "file_extension": ".py",
      "mimetype": "text/x-python",
      "name": "python",
      "nbconvert_exporter": "python",
      "pygments_lexer": "ipython3",
      "version": "3.10.9"
    }
  },
  "nbformat": 4,
  "nbformat_minor": 0
}
